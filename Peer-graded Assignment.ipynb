{
    "cells": [
        {
            "cell_type": "markdown",
            "metadata": {
                "collapsed": true
            },
            "source": "# My Jupyter Notebook on IBM Watson Studio"
        },
        {
            "cell_type": "markdown",
            "metadata": {},
            "source": "__NAVEEN KUSHALAPPA__\n\nData Scientist"
        },
        {
            "cell_type": "markdown",
            "metadata": {},
            "source": "_I am interested in data science because it is fascinating. \nIt is an excellent career choice with tremendous opportunities for advancement in the future._"
        },
        {
            "cell_type": "markdown",
            "metadata": {},
            "source": "### My one-liner code is to print the text \"We are done.\" if the condition 2 is greater than 1 returns the boolean value True."
        },
        {
            "cell_type": "code",
            "execution_count": 4,
            "metadata": {},
            "outputs": [
                {
                    "name": "stdout",
                    "output_type": "stream",
                    "text": "We are done.\n"
                }
            ],
            "source": "if 2 > 1: print(\"We are done.\")"
        },
        {
            "cell_type": "markdown",
            "metadata": {},
            "source": "\n### Horizontal line\nhorizontal line that acts as a separator spanning across the width of the markdown cell - Top Row\n***\nhorizontal line that acts as a separator spanning across the width of the markdown cell - Bottom Row\n\n### Bulleted List\n- Main Bullet Point\n    - Sub Bullet Point line 1\n    - Sub Bullet Point line 2\n        - Sub Sub Bullet Point A\n        - Sub Sub bullet Point B\n        \n### Numbered List\n1. One\n2. Two \n3. Three\n  4. Numbered item\n     5. Substep\n     \n### Table\n| Sno | Data Science | Course | Status |\n|---:|:------------|:--------|:-------|\n| 1 | Part 1 | Python | Completed |\n| 2 | Part 2 | R | In - Progress|\n\n\n### Hyperlinks\n__[Hyperlink to WatsonStudio](https://www.ibm.com/au-en/cloud/watson-studio)__\n\n\n### Displaye Images\n![Image](https://encrypted-tbn0.gstatic.com/images?q=tbn:ANd9GcTIi4ZyquqR13crhMCHJkRE4Y7e3IWEz_X8ew&usqp=CAU)\n\n### Code Syntax Highlight\n\nif 2 > 1: print(\"We are done.\")\n\n\n\n### Blocked Quotes\n> This is a blockquote - Congratulations on finishing all three modules of this course. This week, you'll work on your final assignment which will be graded by your peers.\nThis course introduced you to multiple data science tools, and in this final project, you will use Jupyter Notebook, one of the easiest tools to share publicly.\nInclude at least 6 cells:\nCell 1 (rendered as Markdown): The title should be \"My Jupyter Notebook on IBM Watson Studio\", in H1 header styling. The title does not need to be centered.\nCell 2 (rendered as Markdown): Include your name, in bold characters. In the line below your name, write your current or desired occupation in regular font.\nCell 3 (rendered as Markdown): In italic formatting, write one or two sentences about why you are interested in data science. For example, you can start your first sentence with \"I am interested in data science because ...\".\nCell 4 (rendered as Markdown): In H3 header styling, explain in a short sentence what your code is supposed to do in Cell 5.\nCell 5 (code cell): Your code, as described in Cell 4. It must be executed and must display an output. Try to keep the code simple (it can even be \"1 + 1\").\nCell 6 (rendered as Markdown): Using Markdown or HTML, this cell must include at least 3 of the following: horizontal rule, bulleted list, numbered list, tables, hyperlinks, images, code/syntax highlighting, blocked quotes, strikethrough.\n\n### Strikethrough\n~~Scratch this~~"
        },
        {
            "cell_type": "code",
            "execution_count": null,
            "metadata": {},
            "outputs": [],
            "source": ""
        }
    ],
    "metadata": {
        "kernelspec": {
            "display_name": "Python 3.9",
            "language": "python",
            "name": "python3"
        },
        "language_info": {
            "codemirror_mode": {
                "name": "ipython",
                "version": 3
            },
            "file_extension": ".py",
            "mimetype": "text/x-python",
            "name": "python",
            "nbconvert_exporter": "python",
            "pygments_lexer": "ipython3",
            "version": "3.9.12"
        }
    },
    "nbformat": 4,
    "nbformat_minor": 1
}